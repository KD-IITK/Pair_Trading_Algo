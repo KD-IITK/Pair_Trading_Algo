{
 "cells": [
  {
   "cell_type": "code",
   "execution_count": 1,
   "metadata": {},
   "outputs": [],
   "source": [
    "from testers.stationarity import test_stationarity\n",
    "import pandas as pd\n",
    "from glob import glob\n"
   ]
  },
  {
   "cell_type": "code",
   "execution_count": 2,
   "metadata": {},
   "outputs": [
    {
     "data": {
      "text/plain": [
       "ts         -0.710670\n",
       "p           0.843966\n",
       "nlags       4.000000\n",
       "nobs     2602.000000\n",
       "cv1        -3.432866\n",
       "cv5        -2.862651\n",
       "cv10       -2.567362\n",
       "dtype: float64"
      ]
     },
     "execution_count": 2,
     "metadata": {},
     "output_type": "execute_result"
    }
   ],
   "source": [
    "df = pd.read_json('../data/3MINDIA.json')\n",
    "\n",
    "res = test_stationarity(df['c'].iloc[:int(0.8*(len(df['c'])))])\n",
    "res"
   ]
  },
  {
   "cell_type": "code",
   "execution_count": 3,
   "metadata": {},
   "outputs": [],
   "source": [
    "from glob import glob\n",
    "\n",
    "file_list = glob('../data/*')\n",
    "file_list = [x.split('\\\\')[-1] for x in file_list]"
   ]
  },
  {
   "cell_type": "code",
   "execution_count": 4,
   "metadata": {},
   "outputs": [
    {
     "name": "stdout",
     "output_type": "stream",
     "text": [
      "A2ZINFRA.json\n",
      "ADSL.json\n",
      "***** AKASH.json If using all scalar values, you must pass an index\n",
      "ANDHRAPAP.json\n",
      "ANSALAPI.json\n",
      "ARSHIYA.json\n",
      "ARSSINFRA.json\n",
      "ASIANHOTNR.json\n",
      "ASMS.json\n",
      "AWHCL.json\n",
      "BAGFILMS.json\n",
      "BAJAJHIND.json\n",
      "BGLOBAL.json\n",
      "BGRENERGY.json\n",
      "BLAL.json\n",
      "***** BLUECHIP.json If using all scalar values, you must pass an index\n",
      "CAREERP.json\n",
      "CARTRADE.json\n",
      "***** CONCORDBIO.json Invalid input, x is constant\n",
      "COUNCODOS.json\n",
      "CREATIVEYE.json\n",
      "CYIENTDLM.json\n",
      "DBREALTY.json\n",
      "DHANBANK.json\n",
      "DHARMAJ.json\n",
      "DHRUV.json\n",
      "DNAMEDIA.json\n",
      "DRCSYSTEMS.json\n",
      "EDUCOMP.json\n",
      "ENERGYDEV.json\n",
      "FINOPB.json\n",
      "GAYAHWS.json\n",
      "GFSTEELS.json\n",
      "GKWLIMITED.json\n",
      "GLFL.json\n",
      "GMRP&UI.json\n",
      "GREENPOWER.json\n",
      "GSS.json\n",
      "GTL.json\n",
      "GTLINFRA.json\n",
      "GVKPIL.json\n",
      "HINDCOPPER.json\n",
      "HINDMOTORS.json\n",
      "HUBTOWN.json\n",
      "INDOWIND.json\n",
      "INFOMEDIA.json\n",
      "INOXWIND.json\n",
      "JAIBALAJI.json\n",
      "JAICORPLTD.json\n",
      "***** JIOFIN.json zero-size array to reduction operation maximum which has no identity\n",
      "JPPOWER.json\n",
      "JYOTISTRUC.json\n",
      "KAUSHALYA.json\n",
      "LLOYDSME.json\n",
      "MADHUCON.json\n",
      "MAHASTEEL.json\n",
      "MITCON.json\n",
      "MMTC.json\n",
      "MOTOGENFIN.json\n",
      "MTNL.json\n",
      "NAHARPOLY.json\n",
      "***** NARMADA.json If using all scalar values, you must pass an index\n",
      "NBIFIN.json\n",
      "***** NIRAJISPAT.json If using all scalar values, you must pass an index\n",
      "NLCINDIA.json\n",
      "NORBTEAEXP.json\n",
      "ORCHPHARMA.json\n",
      "PANACHE.json\n",
      "PATELENG.json\n",
      "POLICYBZR.json\n",
      "PPL.json\n",
      "PPLPHARMA.json\n",
      "PRAENG.json\n",
      "PVP.json\n",
      "RKDL.json\n",
      "ROLLT.json\n",
      "***** SANCO.json If using all scalar values, you must pass an index\n",
      "***** SBFC.json sample size is too short to use selected regression component\n",
      "SCHAND.json\n",
      "SEPC.json\n",
      "SETUINFRA.json\n",
      "SEYAIND.json\n",
      "***** SHAH.json If using all scalar values, you must pass an index\n",
      "SIGACHI.json\n",
      "***** SIL.json zero-size array to reduction operation maximum which has no identity\n",
      "SILLYMONKS.json\n",
      "SMCGLOBAL.json\n",
      "SPENCERS.json\n",
      "SPTL.json\n",
      "***** SRGHFL.json If using all scalar values, you must pass an index\n",
      "STARTECK.json\n",
      "STCINDIA.json\n",
      "SUNDARMHLD.json\n",
      "SWSOLAR.json\n",
      "TARAPUR.json\n",
      "TECHIN.json\n",
      "TERASOFT.json\n",
      "TEXINFRA.json\n",
      "TIMESGTY.json\n",
      "TREL.json\n",
      "TRF.json\n",
      "TVVISION.json\n",
      "UMAEXPORTS.json\n",
      "UMESLTD.json\n",
      "UNITECH.json\n",
      "USK.json\n",
      "VASCONEQ.json\n",
      "VICEROY.json\n",
      "WSI.json\n",
      "***** YASHO.json If using all scalar values, you must pass an index\n",
      "ZENITHEXPO.json\n",
      "ZENITHSTL.json\n"
     ]
    }
   ],
   "source": [
    "stationary_series_list = []\n",
    "\n",
    "for file in file_list:\n",
    "    try: \n",
    "        df = pd.read_json(f'../data/{file}')\n",
    "        res = test_stationarity(df['c'].iloc[:int(0.9*(len(df['c'])))])\n",
    "        if res['p'] < 0.05 and res['ts'] < res['cv1']: \n",
    "            stationary_series_list.append(file)\n",
    "            print(file)\n",
    "    except Exception as e: \n",
    "        print('*****', file, e)"
   ]
  },
  {
   "cell_type": "code",
   "execution_count": null,
   "metadata": {},
   "outputs": [],
   "source": [
    "len(stationary_series_list)"
   ]
  },
  {
   "cell_type": "code",
   "execution_count": 11,
   "metadata": {},
   "outputs": [],
   "source": [
    "stat = pd.Series(stationary_series_list)"
   ]
  },
  {
   "cell_type": "code",
   "execution_count": 13,
   "metadata": {},
   "outputs": [],
   "source": [
    "stat.to_csv('./extracted_data/adf_fulfilled.csv')"
   ]
  }
 ],
 "metadata": {
  "kernelspec": {
   "display_name": "Python 3",
   "language": "python",
   "name": "python3"
  },
  "language_info": {
   "codemirror_mode": {
    "name": "ipython",
    "version": 3
   },
   "file_extension": ".py",
   "mimetype": "text/x-python",
   "name": "python",
   "nbconvert_exporter": "python",
   "pygments_lexer": "ipython3",
   "version": "3.10.5"
  },
  "orig_nbformat": 4
 },
 "nbformat": 4,
 "nbformat_minor": 2
}
