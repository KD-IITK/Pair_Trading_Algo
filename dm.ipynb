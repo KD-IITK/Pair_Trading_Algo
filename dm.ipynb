{
 "cells": [
  {
   "cell_type": "code",
   "execution_count": 10,
   "metadata": {},
   "outputs": [],
   "source": [
    "import pandas as pd\n",
    "\n",
    "df1 = pd.read_json('data1_25.json')\n",
    "df2= pd.read_json('data26_33.json')\n",
    "df3 = pd.read_json('data34_57.json')\n",
    "df4= pd.read_json('data58_63.json')\n",
    "\n",
    "df = pd.concat([df1, df2, df3, df4], axis= 0)\n",
    "df = df.reset_index()\n",
    "df.drop(['index'], axis = 1, inplace=True)\n",
    "df.to_json('./esg_data/esg_data.json')"
   ]
  },
  {
   "cell_type": "code",
   "execution_count": null,
   "metadata": {},
   "outputs": [],
   "source": []
  }
 ],
 "metadata": {
  "kernelspec": {
   "display_name": "Python 3",
   "language": "python",
   "name": "python3"
  },
  "language_info": {
   "codemirror_mode": {
    "name": "ipython",
    "version": 3
   },
   "file_extension": ".py",
   "mimetype": "text/x-python",
   "name": "python",
   "nbconvert_exporter": "python",
   "pygments_lexer": "ipython3",
   "version": "3.10.5"
  },
  "orig_nbformat": 4
 },
 "nbformat": 4,
 "nbformat_minor": 2
}
