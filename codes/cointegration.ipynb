{
 "cells": [
  {
   "cell_type": "code",
   "execution_count": 117,
   "id": "initial_id",
   "metadata": {
    "collapsed": true,
    "ExecuteTime": {
     "end_time": "2023-09-27T08:58:40.759217900Z",
     "start_time": "2023-09-27T08:58:40.742268900Z"
    }
   },
   "outputs": [],
   "source": [
    "import pandas as pd\n",
    "import os, sys \n",
    "import numpy as np\n",
    "import matplotlib.pyplot as plt\n",
    "import statsmodels.tsa.vector_ar.vecm as vm\n",
    "from itertools import combinations"
   ]
  },
  {
   "cell_type": "code",
   "execution_count": 118,
   "outputs": [],
   "source": [
    "sys.path.append(os.path.join(sys.path[3], 'algo_testing'))"
   ],
   "metadata": {
    "collapsed": false,
    "ExecuteTime": {
     "end_time": "2023-09-27T08:58:41.140107700Z",
     "start_time": "2023-09-27T08:58:41.121221100Z"
    }
   },
   "id": "cf89d05bdc14dfd2"
  },
  {
   "cell_type": "code",
   "execution_count": 14,
   "outputs": [],
   "source": [
    "from helpers.read_eco_data import preprocess"
   ],
   "metadata": {
    "collapsed": false,
    "ExecuteTime": {
     "end_time": "2023-09-27T05:17:10.049251Z",
     "start_time": "2023-09-27T05:17:10.008357800Z"
    }
   },
   "id": "69981bbcbe3c46e9"
  },
  {
   "cell_type": "code",
   "execution_count": 15,
   "outputs": [],
   "source": [
    "df = preprocess('../esg_data/esg_data.json')"
   ],
   "metadata": {
    "collapsed": false,
    "ExecuteTime": {
     "end_time": "2023-09-27T05:17:55.630270400Z",
     "start_time": "2023-09-27T05:17:50.448167100Z"
    }
   },
   "id": "c68621c49451717b"
  },
  {
   "cell_type": "code",
   "execution_count": 17,
   "outputs": [],
   "source": [
    "df = df.loc[df['eco_score'] > 0]\n",
    "df = df.reset_index(drop=True)"
   ],
   "metadata": {
    "collapsed": false,
    "ExecuteTime": {
     "end_time": "2023-09-27T05:18:14.966669800Z",
     "start_time": "2023-09-27T05:18:14.934415900Z"
    }
   },
   "id": "6e6f204fb8d5c33c"
  },
  {
   "cell_type": "code",
   "execution_count": 18,
   "outputs": [],
   "source": [
    "esg_df = df"
   ],
   "metadata": {
    "collapsed": false,
    "ExecuteTime": {
     "end_time": "2023-09-27T05:18:23.374494400Z",
     "start_time": "2023-09-27T05:18:23.341065700Z"
    }
   },
   "id": "364af85a6acaed7c"
  },
  {
   "cell_type": "code",
   "execution_count": 19,
   "outputs": [
    {
     "name": "stdout",
     "output_type": "stream",
     "text": [
      "*** error reading ADANIGR :  File ../data/ADANIGR.json does not exist\n",
      "*** error reading ADANIT :  File ../data/ADANIT.json does not exist\n",
      "*** error reading ADYAF :  File ../data/ADYAF.json does not exist\n",
      "*** error reading AHLU :  File ../data/AHLU.json does not exist\n",
      "*** error reading ALBK :  File ../data/ALBK.json does not exist\n",
      "*** error reading ANDHRABANK :  File ../data/ANDHRABANK.json does not exist\n",
      "*** error reading APCO :  File ../data/APCO.json does not exist\n",
      "*** error reading AZRE :  File ../data/AZRE.json does not exist\n",
      "*** error reading CARE :  File ../data/CARE.json does not exist\n",
      "*** error reading  :  File ../data/.json does not exist\n",
      "*** error reading CORPBANK :  File ../data/CORPBANK.json does not exist\n",
      "*** error reading CRAFTSMA :  File ../data/CRAFTSMA.json does not exist\n",
      "*** error reading DELHIVER :  File ../data/DELHIVER.json does not exist\n",
      "*** error reading DLTA :  File ../data/DLTA.json does not exist\n",
      "*** error reading EQUITAS :  File ../data/EQUITAS.json does not exist\n",
      "*** error reading EQUITASB :  File ../data/EQUITASB.json does not exist\n",
      "*** error reading EROS :  File ../data/EROS.json does not exist\n",
      "*** error reading 1005Z :  File ../data/1005Z.json does not exist\n",
      "*** error reading FCON :  File ../data/FCON.json does not exist\n",
      "*** error reading CLPFF :  File ../data/CLPFF.json does not exist\n",
      "*** error reading GDL :  File ../data/GDL.json does not exist\n",
      "*** error reading GILL :  File ../data/GILL.json does not exist\n",
      "*** error reading GKO :  File ../data/GKO.json does not exist\n",
      "*** error reading GJGCF :  File ../data/GJGCF.json does not exist\n",
      "*** error reading HAPPSTMN :  File ../data/HAPPSTMN.json does not exist\n",
      "*** error reading HATH :  File ../data/HATH.json does not exist\n",
      "*** error reading ICRAF :  File ../data/ICRAF.json does not exist\n",
      "*** error reading IIFLWAM :  File ../data/IIFLWAM.json does not exist\n",
      "*** error reading ILFT :  File ../data/ILFT.json does not exist\n",
      "*** error reading  :  File ../data/.json does not exist\n",
      "*** error reading INOL :  File ../data/INOL.json does not exist\n",
      "*** error reading JPIN :  File ../data/JPIN.json does not exist\n",
      "*** error reading 522263 :  File ../data/522263.json does not exist\n",
      "*** error reading KALPATPOWR :  File ../data/KALPATPOWR.json does not exist\n",
      "*** error reading 532468 :  File ../data/532468.json does not exist\n",
      "*** error reading KNRC :  File ../data/KNRC.json does not exist\n",
      "*** error reading KWALITY :  File ../data/KWALITY.json does not exist\n",
      "*** error reading LANCI :  File ../data/LANCI.json does not exist\n",
      "*** error reading MAHINDCIE :  File ../data/MAHINDCIE.json does not exist\n",
      "*** error reading MANPASAND :  File ../data/MANPASAND.json does not exist\n",
      "*** error reading MAXHEALT :  File ../data/MAXHEALT.json does not exist\n",
      "*** error reading MAZDOCKS :  File ../data/MAZDOCKS.json does not exist\n",
      "*** error reading MERCATOR :  File ../data/MERCATOR.json does not exist\n",
      "*** error reading METROHL :  File ../data/METROHL.json does not exist\n",
      "*** error reading MOTHERSUMI :  File ../data/MOTHERSUMI.json does not exist\n",
      "*** error reading MUTH :  File ../data/MUTH.json does not exist\n",
      "*** error reading 534309 :  File ../data/534309.json does not exist\n",
      "*** error reading NILK :  File ../data/NILK.json does not exist\n",
      "*** error reading NIRMA :  File ../data/NIRMA.json does not exist\n",
      "*** error reading OBER :  File ../data/OBER.json does not exist\n",
      "*** error reading ORIENTBANK :  File ../data/ORIENTBANK.json does not exist\n",
      "*** error reading PARAG :  File ../data/PARAG.json does not exist\n",
      "*** error reading IX2 :  File ../data/IX2.json does not exist\n",
      "*** error reading RNAVAL :  File ../data/RNAVAL.json does not exist\n",
      "*** error reading PNCL :  File ../data/PNCL.json does not exist\n",
      "*** error reading DIAMOND :  File ../data/DIAMOND.json does not exist\n",
      "*** error reading PRINCPIP :  File ../data/PRINCPIP.json does not exist\n",
      "*** error reading PUNJLLOYD :  File ../data/PUNJLLOYD.json does not exist\n",
      "*** error reading 517522 :  File ../data/517522.json does not exist\n",
      "*** error reading  :  File ../data/.json does not exist\n",
      "*** error reading RMGB :  File ../data/RMGB.json does not exist\n",
      "*** error reading REPCO :  File ../data/REPCO.json does not exist\n",
      "*** error reading RITE :  File ../data/RITE.json does not exist\n",
      "*** error reading ROLEXRIN :  File ../data/ROLEXRIN.json does not exist\n",
      "*** error reading SISLTD :  File ../data/SISLTD.json does not exist\n",
      "*** error reading SHOP :  File ../data/SHOP.json does not exist\n",
      "*** error reading SCUF :  File ../data/SCUF.json does not exist\n",
      "*** error reading SPICEJET :  File ../data/SPICEJET.json does not exist\n",
      "*** error reading SREINFRA :  File ../data/SREINFRA.json does not exist\n",
      "*** error reading NA :  File ../data/NA.json does not exist\n",
      "*** error reading STARHEAL :  File ../data/STARHEAL.json does not exist\n",
      "*** error reading SUNCLAYLTD :  File ../data/SUNCLAYLTD.json does not exist\n",
      "*** error reading SUF :  File ../data/SUF.json does not exist\n",
      "*** error reading SYNDIBANK :  File ../data/SYNDIBANK.json does not exist\n",
      "*** error reading 519091 :  File ../data/519091.json does not exist\n",
      "*** error reading NA :  File ../data/NA.json does not exist\n",
      "*** error reading TCNSBR :  File ../data/TCNSBR.json does not exist\n",
      "*** error reading LAKSHVILAS :  File ../data/LAKSHVILAS.json does not exist\n"
     ]
    }
   ],
   "source": [
    "stocks = pd.DataFrame()\n",
    "\n",
    "for stock_name in df['ticker']:\n",
    "    try: \n",
    "        temp = pd.read_json(f'../data/{stock_name}.json')\n",
    "        new_df = pd.DataFrame({'date' : temp['t'], f'{stock_name}_price': temp['c']})\n",
    "        new_df['date'] = pd.to_datetime(new_df['date'], unit='s')\n",
    "\n",
    "        if stocks.empty: \n",
    "            stocks = new_df\n",
    "        else: \n",
    "            stocks = pd.merge(stocks, new_df, how = 'outer', on='date')\n",
    "    except Exception as e: \n",
    "        print(f\"*** error reading {stock_name} : \", e)"
   ],
   "metadata": {
    "collapsed": false,
    "ExecuteTime": {
     "end_time": "2023-09-27T05:18:46.867894100Z",
     "start_time": "2023-09-27T05:18:39.931959500Z"
    }
   },
   "id": "92d7c276e22b76f5"
  },
  {
   "cell_type": "code",
   "execution_count": 20,
   "outputs": [],
   "source": [
    "cleaned_stocks = pd.read_csv('../esg_data/cleaned_stocks.csv')"
   ],
   "metadata": {
    "collapsed": false,
    "ExecuteTime": {
     "end_time": "2023-09-27T05:20:05.473483600Z",
     "start_time": "2023-09-27T05:20:05.379695300Z"
    }
   },
   "id": "8df0eba050dbebd7"
  },
  {
   "cell_type": "code",
   "execution_count": 23,
   "outputs": [],
   "source": [
    "esg_data = pd.read_json('../esg_data/esg_data.json')\n",
    "esg_data = esg_data[['ticker', 'industry']]"
   ],
   "metadata": {
    "collapsed": false,
    "ExecuteTime": {
     "end_time": "2023-09-27T06:00:46.878613900Z",
     "start_time": "2023-09-27T06:00:46.823334800Z"
    }
   },
   "id": "eb95ee9fe029fd71"
  },
  {
   "cell_type": "code",
   "execution_count": 25,
   "outputs": [],
   "source": [
    "esg_df = pd.merge(esg_df, esg_data, how='left', on='ticker')"
   ],
   "metadata": {
    "collapsed": false,
    "ExecuteTime": {
     "end_time": "2023-09-27T06:01:35.544655200Z",
     "start_time": "2023-09-27T06:01:35.505003300Z"
    }
   },
   "id": "64c2f9dc01a82bf9"
  },
  {
   "cell_type": "code",
   "execution_count": 36,
   "outputs": [
    {
     "name": "stdout",
     "output_type": "stream",
     "text": [
      "['Diversified Financial Services', 'Banking', 'Heavy & Civil Engineering Construction', 'Motor Vehicle Parts Manufacturing', 'Real Estate Management & Development', 'Business Support Services', 'Manufacturing', 'Brokerage & Capital Markets', 'Food Products', 'Telecommunications', 'Motor Vehicle Manufacturing', 'Architectural, Engineering, & Related Services', 'IT & Network Services', 'Electric & Gas Utilities', 'Beverage Manufacturing', 'Insurance Carriers', 'Luxury Goods & Cosmetics Manufacturing', 'Containers & Packaging Manufacturing', 'Airport, Harbor Operations, & Logistics', 'Alternative Energy', 'Healthcare Providers', 'Consumer Lending', 'Conglomerates', 'Retail', 'Other Services', 'Natural Gas Distribution']\n"
     ]
    }
   ],
   "source": [
    "# count of each industry in esg_df\n",
    "esg_df['industry'].value_counts()\n",
    "# get industries with value count > 10\n",
    "industries = esg_df['industry'].value_counts()[esg_df['industry'].value_counts() > 5].index.to_list()\n",
    "print(industries)"
   ],
   "metadata": {
    "collapsed": false,
    "ExecuteTime": {
     "end_time": "2023-09-27T06:05:10.547238900Z",
     "start_time": "2023-09-27T06:05:10.537812500Z"
    }
   },
   "id": "5c195b4a06d164be"
  },
  {
   "cell_type": "code",
   "execution_count": 90,
   "outputs": [],
   "source": [
    "def do_johansen(sector, esg_df, cleaned_stocks, johansen_det_order = 0, johansen_k_ar_diff = 1): \n",
    "    sector_df = esg_df.loc[esg_df['industry'] == sector]\n",
    "    sector_df = sector_df.reset_index(drop=True)\n",
    "    # select the columns of cleaned_stocks that we want to use \n",
    "    cols = ([f'{stock}_price' for stock in sector_df['ticker'] \n",
    "             if f'{stock}_price' in cleaned_stocks.columns.to_list()])\n",
    "    \n",
    "    sector_stocks = cleaned_stocks[cols]\n",
    "    # truncate sector_stocks to 12 columns if there are more than that\n",
    "    if len(sector_stocks.columns) > 12: \n",
    "        sector_stocks = sector_stocks.iloc[:, :12]\n",
    "        \n",
    "    johansen_res = vm.coint_johansen(sector_stocks, det_order=johansen_det_order, k_ar_diff=johansen_k_ar_diff)\n",
    "    \n",
    "    johansen_df = (pd.Series({\n",
    "        'eig_vecs': johansen_res.evec,\n",
    "        'eig_vals': johansen_res.eig,\n",
    "        'cvm': johansen_res.cvm,\n",
    "        'cvt': johansen_res.cvt,\n",
    "        'lr1': johansen_res.lr1,\n",
    "        'lr2': johansen_res.lr2,\n",
    "        'max_eig_stat': johansen_res.max_eig_stat,\n",
    "        'max_eig_stat_crit_vals': johansen_res.max_eig_stat_crit_vals,\n",
    "        'meth': johansen_res.meth,\n",
    "        'r0t': johansen_res.r0t,\n",
    "        'rkt': johansen_res.rkt,\n",
    "        'trace_stat': johansen_res.trace_stat,\n",
    "        'trace_stat_crit_vals': johansen_res.trace_stat_crit_vals\n",
    "    }))\n",
    "    \n",
    "    return johansen_df"
   ],
   "metadata": {
    "collapsed": false,
    "ExecuteTime": {
     "end_time": "2023-09-27T08:06:55.966544400Z",
     "start_time": "2023-09-27T08:06:55.966544400Z"
    }
   },
   "id": "ef7a7d6672aa72e9"
  },
  {
   "cell_type": "code",
   "execution_count": 91,
   "outputs": [],
   "source": [
    "def check_crit_values(sector, esg_df, cleaned_stocks, crit_val = 2, johansen_det_order = 0, johansen_k_ar_diff = 1): \n",
    "    res = do_johansen(sector, esg_df, cleaned_stocks, johansen_det_order, johansen_k_ar_diff)\n",
    "    \n",
    "    max_i = -1\n",
    "    for i in range(len(res.trace_stat)): \n",
    "        if(res.trace_stat[i] > res.trace_stat_crit_vals[i][crit_val]):\n",
    "            max_i = max(max_i, i)\n",
    "    \n",
    "    print(f'{sector} : {max_i}')"
   ],
   "metadata": {
    "collapsed": false,
    "ExecuteTime": {
     "end_time": "2023-09-27T08:06:57.693577200Z",
     "start_time": "2023-09-27T08:06:57.686598700Z"
    }
   },
   "id": "c000f8be28b67cac"
  },
  {
   "cell_type": "code",
   "execution_count": 92,
   "outputs": [
    {
     "name": "stdout",
     "output_type": "stream",
     "text": [
      "Diversified Financial Services : 2\n",
      "Banking : -1\n",
      "Heavy & Civil Engineering Construction : 3\n",
      "Motor Vehicle Parts Manufacturing : 2\n",
      "Real Estate Management & Development : 2\n",
      "*** ERROR in Business Support Services :  1-dimensional array given. Array must be at least two-dimensional\n",
      "Manufacturing : 0\n",
      "Brokerage & Capital Markets : -1\n",
      "Food Products : -1\n",
      "Telecommunications : 0\n",
      "Motor Vehicle Manufacturing : -1\n",
      "Architectural, Engineering, & Related Services : -1\n",
      "IT & Network Services : 0\n",
      "Electric & Gas Utilities : 0\n",
      "Beverage Manufacturing : -1\n",
      "*** ERROR in Insurance Carriers :  1-dimensional array given. Array must be at least two-dimensional\n",
      "Luxury Goods & Cosmetics Manufacturing : 0\n",
      "Containers & Packaging Manufacturing : -1\n",
      "Airport, Harbor Operations, & Logistics : -1\n",
      "Alternative Energy : 1\n",
      "*** ERROR in Healthcare Providers :  1-dimensional array given. Array must be at least two-dimensional\n",
      "Consumer Lending : -1\n",
      "Conglomerates : -1\n",
      "Retail : -1\n",
      "*** ERROR in Other Services :  1-dimensional array given. Array must be at least two-dimensional\n",
      "Natural Gas Distribution : -1\n"
     ]
    }
   ],
   "source": [
    "for sector in industries: \n",
    "    try: \n",
    "        check_crit_values(sector, esg_df, cleaned_stocks)\n",
    "    except Exception as e: \n",
    "        print(f\"*** ERROR in {sector} : \", e)"
   ],
   "metadata": {
    "collapsed": false,
    "ExecuteTime": {
     "end_time": "2023-09-27T08:06:59.174042900Z",
     "start_time": "2023-09-27T08:06:58.970945200Z"
    }
   },
   "id": "ddc0ab3e59fcb071"
  },
  {
   "cell_type": "code",
   "execution_count": 85,
   "outputs": [],
   "source": [
    "johansen_df = do_johansen('Heavy & Civil Engineering Construction', esg_df, cleaned_stocks)"
   ],
   "metadata": {
    "collapsed": false,
    "ExecuteTime": {
     "end_time": "2023-09-27T06:52:58.192361300Z",
     "start_time": "2023-09-27T06:52:58.157547600Z"
    }
   },
   "id": "33e2b362a867f23a"
  },
  {
   "cell_type": "code",
   "execution_count": 108,
   "outputs": [],
   "source": [
    "def check_johansen(sector, select_cols, esg_df, cleaned_stocks, johansen_det_order = 0, johansen_k_ar_diff = 1): \n",
    "    sector_df = esg_df.loc[esg_df['industry'] == sector]\n",
    "    sector_df = sector_df.reset_index(drop=True)\n",
    "    # select the columns of cleaned_stocks that we want to use \n",
    "    cols = ([f'{stock}_price' for stock in sector_df['ticker'] \n",
    "             if f'{stock}_price' in cleaned_stocks.columns.to_list()])\n",
    "    \n",
    "    sector_stocks = cleaned_stocks[cols]\n",
    "    # truncate sector_stocks to 12 columns if there are more than that\n",
    "    \n",
    "    # select columns in select_cols\n",
    "    sector_stocks = sector_stocks[select_cols]\n",
    "        \n",
    "        \n",
    "    johansen_res = vm.coint_johansen(sector_stocks, det_order=johansen_det_order, k_ar_diff=johansen_k_ar_diff)\n",
    "    \n",
    "    johansen_df = (pd.Series({\n",
    "        'eig_vecs': johansen_res.evec,\n",
    "        'eig_vals': johansen_res.eig,\n",
    "        'cvm': johansen_res.cvm,\n",
    "        'cvt': johansen_res.cvt,\n",
    "        'lr1': johansen_res.lr1,\n",
    "        'lr2': johansen_res.lr2,\n",
    "        'max_eig_stat': johansen_res.max_eig_stat,\n",
    "        'max_eig_stat_crit_vals': johansen_res.max_eig_stat_crit_vals,\n",
    "        'meth': johansen_res.meth,\n",
    "        'r0t': johansen_res.r0t,\n",
    "        'rkt': johansen_res.rkt,\n",
    "        'trace_stat': johansen_res.trace_stat,\n",
    "        'trace_stat_crit_vals': johansen_res.trace_stat_crit_vals\n",
    "    }))\n",
    "    \n",
    "    return johansen_df"
   ],
   "metadata": {
    "collapsed": false,
    "ExecuteTime": {
     "end_time": "2023-09-27T08:54:17.054108900Z",
     "start_time": "2023-09-27T08:54:17.007220600Z"
    }
   },
   "id": "1bbf568bf020351b"
  },
  {
   "cell_type": "markdown",
   "source": [],
   "metadata": {
    "collapsed": false
   },
   "id": "8debf9366fb102b1"
  },
  {
   "cell_type": "code",
   "execution_count": 102,
   "outputs": [],
   "source": [
    "# Heavy & Civil Engineering Construction\n",
    "\n",
    "\n",
    "\n",
    "sector_df = esg_df.loc[esg_df['industry'] == 'Heavy & Civil Engineering Construction']\n",
    "sector_df = sector_df.reset_index(drop=True)\n",
    "cols = ([f'{stock}_price' for stock in sector_df['ticker'] \n",
    "         if f'{stock}_price' in cleaned_stocks.columns.to_list()])\n",
    "\n",
    "sector_stocks = cleaned_stocks[cols]"
   ],
   "metadata": {
    "collapsed": false,
    "ExecuteTime": {
     "end_time": "2023-09-27T08:34:14.355455600Z",
     "start_time": "2023-09-27T08:34:14.339795900Z"
    }
   },
   "id": "db279fc68aa14c47"
  },
  {
   "cell_type": "code",
   "execution_count": 136,
   "outputs": [],
   "source": [
    "# generate all possible 4 stock combinations\n",
    "combos = list(combinations(sector_stocks.columns, 4))\n",
    "max_res = 0\n",
    "max_combo = []\n",
    "\n",
    "for combo in combos:\n",
    "    combo = list(combo)\n",
    "    res = check_johansen('Heavy & Civil Engineering Construction', combo, esg_df, cleaned_stocks)\n",
    "    \n",
    "    if res.trace_stat[3] > max_res: \n",
    "        max_res = res.trace_stat[3]\n",
    "        max_combo = combo"
   ],
   "metadata": {
    "collapsed": false,
    "ExecuteTime": {
     "end_time": "2023-09-27T09:04:08.097733500Z",
     "start_time": "2023-09-27T09:04:02.942532500Z"
    }
   },
   "id": "1aebc763eb0f942"
  },
  {
   "cell_type": "code",
   "execution_count": 137,
   "outputs": [],
   "source": [
    "res = check_johansen('Heavy & Civil Engineering Construction', max_combo, esg_df, cleaned_stocks)"
   ],
   "metadata": {
    "collapsed": false,
    "ExecuteTime": {
     "end_time": "2023-09-27T09:04:08.141057400Z",
     "start_time": "2023-09-27T09:04:08.100569700Z"
    }
   },
   "id": "54b7a634ed6ff856"
  },
  {
   "cell_type": "code",
   "execution_count": 138,
   "outputs": [
    {
     "name": "stdout",
     "output_type": "stream",
     "text": [
      "[79.25770855 27.12808875 15.07696395  6.28550311]\n"
     ]
    }
   ],
   "source": [
    "print(res.trace_stat)\n"
   ],
   "metadata": {
    "collapsed": false,
    "ExecuteTime": {
     "end_time": "2023-09-27T09:04:08.145431100Z",
     "start_time": "2023-09-27T09:04:08.130735700Z"
    }
   },
   "id": "4e2cefaea49fe0fe"
  },
  {
   "cell_type": "code",
   "execution_count": 139,
   "outputs": [
    {
     "name": "stdout",
     "output_type": "stream",
     "text": [
      "[[44.4929 47.8545 54.6815]\n",
      " [27.0669 29.7961 35.4628]\n",
      " [13.4294 15.4943 19.9349]\n",
      " [ 2.7055  3.8415  6.6349]]\n"
     ]
    }
   ],
   "source": [
    "print(res.trace_stat_crit_vals)"
   ],
   "metadata": {
    "collapsed": false,
    "ExecuteTime": {
     "end_time": "2023-09-27T09:04:08.156750Z",
     "start_time": "2023-09-27T09:04:08.145431100Z"
    }
   },
   "id": "926bad140ac38895"
  },
  {
   "cell_type": "code",
   "execution_count": 140,
   "outputs": [
    {
     "name": "stdout",
     "output_type": "stream",
     "text": [
      "[0.02002557 0.0046655  0.0034057  0.00243611]\n"
     ]
    }
   ],
   "source": [
    "print(res.eig_vals)"
   ],
   "metadata": {
    "collapsed": false,
    "ExecuteTime": {
     "end_time": "2023-09-27T09:06:20.557731800Z",
     "start_time": "2023-09-27T09:06:20.480784100Z"
    }
   },
   "id": "6657e5e8227bcf7c"
  },
  {
   "cell_type": "code",
   "execution_count": 141,
   "outputs": [
    {
     "name": "stdout",
     "output_type": "stream",
     "text": [
      "[ 0.00273918 -0.01025865 -0.03389192 -0.00116259]\n"
     ]
    }
   ],
   "source": [
    "print(res.eig_vecs[0])"
   ],
   "metadata": {
    "collapsed": false,
    "ExecuteTime": {
     "end_time": "2023-09-27T09:06:27.846007600Z",
     "start_time": "2023-09-27T09:06:27.814362500Z"
    }
   },
   "id": "55f1f4a6a4542cdb"
  },
  {
   "cell_type": "code",
   "execution_count": 142,
   "outputs": [],
   "source": [
    "max_combo.insert(0, 'date')"
   ],
   "metadata": {
    "collapsed": false,
    "ExecuteTime": {
     "end_time": "2023-09-27T09:11:03.602987Z",
     "start_time": "2023-09-27T09:11:03.575861200Z"
    }
   },
   "id": "784e7d0257b09a09"
  },
  {
   "cell_type": "code",
   "execution_count": 143,
   "outputs": [],
   "source": [
    "sector_stock_prices = cleaned_stocks[max_combo]"
   ],
   "metadata": {
    "collapsed": false,
    "ExecuteTime": {
     "end_time": "2023-09-27T09:11:46.082038500Z",
     "start_time": "2023-09-27T09:11:46.048371900Z"
    }
   },
   "id": "69bb451977bfa7be"
  },
  {
   "cell_type": "code",
   "execution_count": 145,
   "outputs": [],
   "source": [
    "max_combo.remove('date')"
   ],
   "metadata": {
    "collapsed": false,
    "ExecuteTime": {
     "end_time": "2023-09-27T09:17:12.496235500Z",
     "start_time": "2023-09-27T09:17:12.464792100Z"
    }
   },
   "id": "93377e45f0d580e"
  },
  {
   "cell_type": "code",
   "execution_count": 146,
   "outputs": [
    {
     "name": "stderr",
     "output_type": "stream",
     "text": [
      "C:\\Users\\esnd1\\AppData\\Local\\Temp\\ipykernel_17044\\3447051722.py:1: SettingWithCopyWarning: \n",
      "A value is trying to be set on a copy of a slice from a DataFrame.\n",
      "Try using .loc[row_indexer,col_indexer] = value instead\n",
      "\n",
      "See the caveats in the documentation: https://pandas.pydata.org/pandas-docs/stable/user_guide/indexing.html#returning-a-view-versus-a-copy\n",
      "  sector_stock_prices['Portfolio'] = ( sector_stock_prices[max_combo]\n"
     ]
    }
   ],
   "source": [
    "sector_stock_prices['Portfolio'] = ( sector_stock_prices[max_combo]\n",
    "                                    .mul(res.eig_vecs[0], axis=1)\n",
    "                                    .sum(axis=1) ) "
   ],
   "metadata": {
    "collapsed": false,
    "ExecuteTime": {
     "end_time": "2023-09-27T09:18:51.339265700Z",
     "start_time": "2023-09-27T09:18:51.272877200Z"
    }
   },
   "id": "996baee7a0543c92"
  },
  {
   "cell_type": "code",
   "execution_count": 149,
   "outputs": [],
   "source": [
    "from testers.stationarity import test_stationary"
   ],
   "metadata": {
    "collapsed": false,
    "ExecuteTime": {
     "end_time": "2023-09-27T09:20:40.394318600Z",
     "start_time": "2023-09-27T09:20:40.364608600Z"
    }
   },
   "id": "32da503bf470617c"
  },
  {
   "cell_type": "code",
   "execution_count": 150,
   "outputs": [],
   "source": [
    "adf_res = test_stationary(sector_stock_prices['Portfolio'])"
   ],
   "metadata": {
    "collapsed": false,
    "ExecuteTime": {
     "end_time": "2023-09-27T09:20:59.444872100Z",
     "start_time": "2023-09-27T09:20:59.257548600Z"
    }
   },
   "id": "f9dd5b8a261c68d6"
  },
  {
   "cell_type": "code",
   "execution_count": 151,
   "outputs": [
    {
     "data": {
      "text/plain": "ts         -2.835114\np           0.053430\nnlags       1.000000\nnobs     2577.000000\ncv1        -3.432890\ncv5        -2.862662\ncv10       -2.567367\ndtype: float64"
     },
     "execution_count": 151,
     "metadata": {},
     "output_type": "execute_result"
    }
   ],
   "source": [
    "adf_res"
   ],
   "metadata": {
    "collapsed": false,
    "ExecuteTime": {
     "end_time": "2023-09-27T09:21:03.799809900Z",
     "start_time": "2023-09-27T09:21:03.772849600Z"
    }
   },
   "id": "bd8a06d09b4ef782"
  },
  {
   "cell_type": "code",
   "execution_count": 159,
   "outputs": [],
   "source": [
    "def apo_based_trading(data): \n",
    "    # Variables/constants for EMA Calculation:\n",
    "    NUM_PERIODS_FAST = 12 # Static time period parameter for the fast EMA\n",
    "    K_FAST = 2 / (NUM_PERIODS_FAST + 1) \n",
    "    ema_fast = 0.0\n",
    "    ema_fast_values = [] \n",
    "    \n",
    "    NUM_PERIODS_SLOW = 26 # Static time period parameter for slow EMA\n",
    "    K_SLOW = 2 / (NUM_PERIODS_SLOW + 1) \n",
    "    ema_slow = 0.0\n",
    "    ema_slow_values = [] \n",
    "    apo_values = []\n",
    "    \n",
    "    orders, positions, pnls = [], [], []\n",
    "    last_buy_price = 0 \n",
    "    last_sell_price = 0 \n",
    "    position = 0 \n",
    "    buy_sum_price_qty = 0\n",
    "    buy_sum_qty = 0 \n",
    "    sell_sum_price_qty = 0 \n",
    "    sell_sum_qty = 0 \n",
    "    open_pnl = 0 \n",
    "    closed_pnl = 0 \n",
    "    \n",
    "    APO_VALUE_FOR_BUY_ENTRY = -10 \n",
    "    APO_VALUE_FOR_SELL_ENTRY = 10 \n",
    "    MIN_PRICE_MOVE_FROM_LAST_TRADE = 10 \n",
    "    MIN_PROFIT_TO_CLOSE = 10 \n",
    "    NUM_SHARES_PER_TRADE = 10\n",
    "    \n",
    "    close = data['Price']\n",
    "    for close_price in close:\n",
    "        if ema_fast == 0: \n",
    "            ema_fast = close_price\n",
    "            ema_slow = close_price\n",
    "        else:\n",
    "            ema_fast = (close_price - ema_fast) * K_FAST + ema_fast\n",
    "            ema_slow = (close_price - ema_slow) * K_SLOW + ema_slow\n",
    "        ema_fast_values.append(ema_fast)\n",
    "        ema_slow_values.append(ema_slow)\n",
    "        apo = ema_fast - ema_slow\n",
    "        apo_values.append(apo)\n",
    "        \n",
    "        if ((apo > APO_VALUE_FOR_SELL_ENTRY and abs(close_price -\n",
    "        last_sell_price) > MIN_PRICE_MOVE_FROM_LAST_TRADE)\n",
    "        or\n",
    "        (position > 0 and (apo >= 0 or open_pnl >\n",
    "        MIN_PROFIT_TO_CLOSE))): \n",
    "            orders.append(-1) # mark the sell trade\n",
    "            last_sell_price = close_price\n",
    "            position -= NUM_SHARES_PER_TRADE # reduce position by the size of the trade\n",
    "            sell_sum_price_qty += (close_price*NUM_SHARES_PER_TRADE) # update vwap sell-price\n",
    "            sell_sum_qty += NUM_SHARES_PER_TRADE\n",
    "\n",
    "        elif ((apo < APO_VALUE_FOR_BUY_ENTRY and abs(close_price -\n",
    "        last_buy_price) > MIN_PRICE_MOVE_FROM_LAST_TRADE) \n",
    "        or\n",
    "        (position < 0 and (apo <= 0 or open_pnl >\n",
    "        MIN_PROFIT_TO_CLOSE))):\n",
    "            orders.append(+1) \n",
    "            last_buy_price = close_price\n",
    "            position += NUM_SHARES_PER_TRADE \n",
    "            buy_sum_price_qty += (close_price*NUM_SHARES_PER_TRADE) \n",
    "            buy_sum_qty += NUM_SHARES_PER_TRADE\n",
    "        else:\n",
    "            orders.append(0)\n",
    "            \n",
    "        positions.append(position)\n",
    "        open_pnl = 0\n",
    "        if position > 0:\n",
    "            if sell_sum_qty > 0: \n",
    "                open_pnl = abs(sell_sum_qty) * (sell_sum_price_qty/sell_sum_qty - buy_sum_price_qty/buy_sum_qty)\n",
    "                \n",
    "                open_pnl += abs(sell_sum_qty - position) * (close_price -\n",
    "                buy_sum_price_qty / buy_sum_qty)\n",
    "        elif position < 0:\n",
    "            if buy_sum_qty > 0:\n",
    "                open_pnl = abs(buy_sum_qty) * (sell_sum_price_qty/sell_sum_qty - buy_sum_price_qty/buy_sum_qty)\n",
    "                open_pnl += abs(buy_sum_qty - position) * (sell_sum_price_qty/sell_sum_qty - close_price)\n",
    "        else:\n",
    "            closed_pnl += (sell_sum_price_qty - buy_sum_price_qty)\n",
    "            buy_sum_price_qty = 0\n",
    "            buy_sum_qty = 0\n",
    "            sell_sum_price_qty = 0\n",
    "            sell_sum_qty = 0\n",
    "            last_buy_price = 0\n",
    "            last_sell_price = 0\n",
    "        pnls.append(closed_pnl + open_pnl)\n",
    "        \n",
    "    data = data.assign(ClosePrice=pd.Series(close, index=data.index))\n",
    "    data = data.assign(Fast10DayEMA=pd.Series(ema_fast_values,\n",
    "    index=data.index))\n",
    "    data = data.assign(Slow40DayEMA=pd.Series(ema_slow_values,\n",
    "    index=data.index))\n",
    "    data = data.assign(APO=pd.Series(apo_values, index=data.index))\n",
    "    data = data.assign(Trades=pd.Series(orders, index=data.index))\n",
    "    data = data.assign(Position=pd.Series(positions, index=data.index))\n",
    "    data = data.assign(Pnl=pd.Series(pnls, index=data.index))\n",
    "\n",
    "    return data"
   ],
   "metadata": {
    "collapsed": false,
    "ExecuteTime": {
     "end_time": "2023-09-27T09:37:04.928741200Z",
     "start_time": "2023-09-27T09:37:04.896829400Z"
    }
   },
   "id": "2575853337cbcdf1"
  },
  {
   "cell_type": "code",
   "execution_count": 160,
   "outputs": [],
   "source": [
    "def analyze(new_df): \n",
    "    try: \n",
    "        # calculate drawdown\n",
    "        new_df['max'] = new_df['Pnl'].cummax()\n",
    "        new_df['drawdown'] = new_df['max'] - new_df['Pnl']\n",
    "        plt.show()\n",
    "        \n",
    "        \n",
    "        if new_df['Pnl'].mean() == 0.0:\n",
    "            sharpe_ratio = 0\n",
    "        else:\n",
    "            sharpe_ratio = new_df['Pnl'].mean() / new_df['Pnl'].std()\n",
    "        # calculate max drawdown\n",
    "        max_drawdown = new_df['drawdown'].max()\n",
    "        # # calculate max drawdown duration\n",
    "        # max_drawdown_duration = new_df['drawdown'].idxmax() - new_df['drawdown'].idxmin()\n",
    "        # calculate total return\n",
    "        total_return = new_df['Pnl'].iloc[-1]\n",
    "        # # calculate annualized return\n",
    "        # annualized_return = new_df['Pnl'].iloc[-1] / len(new_df['Pnl']) * 252\n",
    "        # # calculate annualized volatility\n",
    "        # annualized_volatility = new_df['Pnl'].std() * np.sqrt(252)\n",
    "\n",
    "        # calculate return percentage by dividing total reu\n",
    "        # # calculate sortino ratio\n",
    "        # sortino_ratio = new_df['Pnl'].mean() / new_df[new_df['Pnl'] < 0]['Pnl'].std()\n",
    "        # # calculate calmar ratio\n",
    "        # calmar_ratio = new_df['Pnl'].mean() / max_drawdown\n",
    "        # # calculate average return\n",
    "        # average_return = new_df['Pnl'].mean()\n",
    "        # # calculate average loss\n",
    "        # average_loss = new_df[new_df['Pnl'] < 0]['Pnl'].mean()\n",
    "        # # calculate average win\n",
    "        # average_win = new_df[new_df['Pnl'] > 0]['Pnl'].mean()\n",
    "        # # calculate win rate\n",
    "        # win_rate = len(new_df[new_df['Pnl'] > 0]['Pnl']) / len(new_df['Pnl'])\n",
    "        # # calculate profit factor\n",
    "        # profit_factor = new_df[new_df['Pnl'] > 0]['Pnl'].sum() / abs(new_df[new_df['Pnl'] < 0]['Pnl'].sum())\n",
    "        # # create a dictionary using all the above variables that we have calculated\n",
    "        \n",
    "        \n",
    "        # results = pd.Series({'sharpe_ratio': [sharpe_ratio], 'max_drawdown': [max_drawdown], 'max_drawdown_duration': [max_drawdown_duration], 'total_return': [total_return], 'annualized_return': [annualized_return], 'annualized_volatility': [annualized_volatility], 'sortino_ratio': [sortino_ratio], 'calmar_ratio': [calmar_ratio], 'average_return': [average_return], 'average_loss': [average_loss], 'average_win': [average_win], 'win_rate': [win_rate], 'profit_factor': [profit_factor]})\n",
    "        results = pd.Series({'sharpe_ratio': [sharpe_ratio], 'max_drawdown': [max_drawdown], 'total_return': [total_return]})\n",
    "       #  remove [] brackets from df\n",
    "        results = results.apply(lambda x: x[0])\n",
    "        return results\n",
    "    \n",
    "    except Exception as e: \n",
    "        print(e)"
   ],
   "metadata": {
    "collapsed": false,
    "ExecuteTime": {
     "end_time": "2023-09-27T09:37:06.325717200Z",
     "start_time": "2023-09-27T09:37:06.239902200Z"
    }
   },
   "id": "b1b716fc5459d850"
  },
  {
   "cell_type": "code",
   "execution_count": 154,
   "outputs": [
    {
     "data": {
      "text/plain": "            date  ASHOKA_price  GTLINFRA_price  HCC_price  IRB_price  \\\n0     2011-03-09         58.81           36.45      31.45      18.89   \n1     2011-03-10         57.78           36.45      32.43      18.62   \n2     2011-03-11         59.11           36.55      31.67      18.23   \n3     2011-03-14         60.79           36.60      31.54      18.53   \n4     2011-03-15         60.04           36.60      30.95      18.19   \n...          ...           ...             ...        ...        ...   \n2574  2023-07-24         94.50            0.75      20.15      25.60   \n2575  2023-07-31         99.85            0.80      19.40      26.45   \n2576  2023-08-07        104.20            0.75      20.55      25.85   \n2577  2023-08-14         91.10            0.80      25.80      26.05   \n2578  2023-08-21        100.65            0.75      24.55      26.70   \n\n      Portfolio  \n0     -1.300699  \n1     -1.336420  \n2     -1.307592  \n3     -1.299446  \n4     -1.281109  \n...         ...  \n2574  -0.461526  \n2575  -0.422953  \n2576  -0.448803  \n2577  -0.663364  \n2578  -0.595083  \n\n[2579 rows x 6 columns]",
      "text/html": "<div>\n<style scoped>\n    .dataframe tbody tr th:only-of-type {\n        vertical-align: middle;\n    }\n\n    .dataframe tbody tr th {\n        vertical-align: top;\n    }\n\n    .dataframe thead th {\n        text-align: right;\n    }\n</style>\n<table border=\"1\" class=\"dataframe\">\n  <thead>\n    <tr style=\"text-align: right;\">\n      <th></th>\n      <th>date</th>\n      <th>ASHOKA_price</th>\n      <th>GTLINFRA_price</th>\n      <th>HCC_price</th>\n      <th>IRB_price</th>\n      <th>Portfolio</th>\n    </tr>\n  </thead>\n  <tbody>\n    <tr>\n      <th>0</th>\n      <td>2011-03-09</td>\n      <td>58.81</td>\n      <td>36.45</td>\n      <td>31.45</td>\n      <td>18.89</td>\n      <td>-1.300699</td>\n    </tr>\n    <tr>\n      <th>1</th>\n      <td>2011-03-10</td>\n      <td>57.78</td>\n      <td>36.45</td>\n      <td>32.43</td>\n      <td>18.62</td>\n      <td>-1.336420</td>\n    </tr>\n    <tr>\n      <th>2</th>\n      <td>2011-03-11</td>\n      <td>59.11</td>\n      <td>36.55</td>\n      <td>31.67</td>\n      <td>18.23</td>\n      <td>-1.307592</td>\n    </tr>\n    <tr>\n      <th>3</th>\n      <td>2011-03-14</td>\n      <td>60.79</td>\n      <td>36.60</td>\n      <td>31.54</td>\n      <td>18.53</td>\n      <td>-1.299446</td>\n    </tr>\n    <tr>\n      <th>4</th>\n      <td>2011-03-15</td>\n      <td>60.04</td>\n      <td>36.60</td>\n      <td>30.95</td>\n      <td>18.19</td>\n      <td>-1.281109</td>\n    </tr>\n    <tr>\n      <th>...</th>\n      <td>...</td>\n      <td>...</td>\n      <td>...</td>\n      <td>...</td>\n      <td>...</td>\n      <td>...</td>\n    </tr>\n    <tr>\n      <th>2574</th>\n      <td>2023-07-24</td>\n      <td>94.50</td>\n      <td>0.75</td>\n      <td>20.15</td>\n      <td>25.60</td>\n      <td>-0.461526</td>\n    </tr>\n    <tr>\n      <th>2575</th>\n      <td>2023-07-31</td>\n      <td>99.85</td>\n      <td>0.80</td>\n      <td>19.40</td>\n      <td>26.45</td>\n      <td>-0.422953</td>\n    </tr>\n    <tr>\n      <th>2576</th>\n      <td>2023-08-07</td>\n      <td>104.20</td>\n      <td>0.75</td>\n      <td>20.55</td>\n      <td>25.85</td>\n      <td>-0.448803</td>\n    </tr>\n    <tr>\n      <th>2577</th>\n      <td>2023-08-14</td>\n      <td>91.10</td>\n      <td>0.80</td>\n      <td>25.80</td>\n      <td>26.05</td>\n      <td>-0.663364</td>\n    </tr>\n    <tr>\n      <th>2578</th>\n      <td>2023-08-21</td>\n      <td>100.65</td>\n      <td>0.75</td>\n      <td>24.55</td>\n      <td>26.70</td>\n      <td>-0.595083</td>\n    </tr>\n  </tbody>\n</table>\n<p>2579 rows × 6 columns</p>\n</div>"
     },
     "execution_count": 154,
     "metadata": {},
     "output_type": "execute_result"
    }
   ],
   "source": [
    "sector_stock_prices"
   ],
   "metadata": {
    "collapsed": false,
    "ExecuteTime": {
     "end_time": "2023-09-27T09:32:06.133439500Z",
     "start_time": "2023-09-27T09:32:06.096747200Z"
    }
   },
   "id": "a059e7074916379"
  },
  {
   "cell_type": "code",
   "execution_count": 157,
   "outputs": [],
   "source": [
    "prices = sector_stock_prices['Portfolio']"
   ],
   "metadata": {
    "collapsed": false,
    "ExecuteTime": {
     "end_time": "2023-09-27T09:34:12.454166800Z",
     "start_time": "2023-09-27T09:34:12.454166800Z"
    }
   },
   "id": "b961f7db4dd9247f"
  },
  {
   "cell_type": "code",
   "execution_count": 158,
   "outputs": [
    {
     "data": {
      "text/plain": "<Axes: >"
     },
     "execution_count": 158,
     "metadata": {},
     "output_type": "execute_result"
    },
    {
     "data": {
      "text/plain": "<Figure size 640x480 with 1 Axes>",
      "image/png": "[encoded data removed]"
     },
     "metadata": {},
     "output_type": "display_data"
    }
   ],
   "source": [],
   "metadata": {
    "collapsed": false,
    "ExecuteTime": {
     "end_time": "2023-09-27T09:34:18.765765300Z",
     "start_time": "2023-09-27T09:34:18.463043100Z"
    }
   },
   "id": "380e899324d2d63"
  },
  {
   "cell_type": "code",
   "execution_count": 161,
   "outputs": [
    {
     "name": "stdout",
     "output_type": "stream",
     "text": [
      "         Price  ClosePrice  Fast10DayEMA  Slow40DayEMA       APO  Trades  \\\n",
      "0    -1.300699   -1.300699     -1.300699     -1.300699  0.000000       0   \n",
      "1    -1.336420   -1.336420     -1.306194     -1.303345 -0.002850       0   \n",
      "2    -1.307592   -1.307592     -1.306409     -1.303659 -0.002750       0   \n",
      "3    -1.299446   -1.299446     -1.305338     -1.303347 -0.001991       0   \n",
      "4    -1.281109   -1.281109     -1.301610     -1.301700  0.000090       0   \n",
      "...        ...         ...           ...           ...       ...     ...   \n",
      "2574 -0.461526   -0.461526     -0.464544     -0.424306 -0.040238       0   \n",
      "2575 -0.422953   -0.422953     -0.458146     -0.424206 -0.033940       0   \n",
      "2576 -0.448803   -0.448803     -0.456708     -0.426028 -0.030680       0   \n",
      "2577 -0.663364   -0.663364     -0.488501     -0.443608 -0.044893       0   \n",
      "2578 -0.595083   -0.595083     -0.504899     -0.454829 -0.050070       0   \n",
      "\n",
      "      Position  Pnl  \n",
      "0            0    0  \n",
      "1            0    0  \n",
      "2            0    0  \n",
      "3            0    0  \n",
      "4            0    0  \n",
      "...        ...  ...  \n",
      "2574         0    0  \n",
      "2575         0    0  \n",
      "2576         0    0  \n",
      "2577         0    0  \n",
      "2578         0    0  \n",
      "\n",
      "[2579 rows x 8 columns]\n",
      "sharpe_ratio    0\n",
      "max_drawdown    0\n",
      "total_return    0\n",
      "dtype: int64\n"
     ]
    }
   ],
   "source": [
    "new_df = pd.DataFrame({'Price': sector_stock_prices['Portfolio']})\n",
    "new_df = apo_based_trading(new_df)\n",
    "\n",
    "print(new_df)\n",
    "try: \n",
    "    res = analyze(new_df)\n",
    "    print(res)\n",
    "        \n",
    "except Exception as e: \n",
    "    print(f\"*** error analyzing : \", e)"
   ],
   "metadata": {
    "collapsed": false,
    "ExecuteTime": {
     "end_time": "2023-09-27T09:41:39.160524400Z",
     "start_time": "2023-09-27T09:41:39.101246Z"
    }
   },
   "id": "7bd2a4e16f4adf1b"
  },
  {
   "cell_type": "code",
   "execution_count": null,
   "outputs": [],
   "source": [],
   "metadata": {
    "collapsed": false
   },
   "id": "227b94a4d08a6d16"
  }
 ],
 "metadata": {
  "kernelspec": {
   "display_name": "Python 3",
   "language": "python",
   "name": "python3"
  },
  "language_info": {
   "codemirror_mode": {
    "name": "ipython",
    "version": 2
   },
   "file_extension": ".py",
   "mimetype": "text/x-python",
   "name": "python",
   "nbconvert_exporter": "python",
   "pygments_lexer": "ipython2",
   "version": "2.7.6"
  }
 },
 "nbformat": 4,
 "nbformat_minor": 5
}
