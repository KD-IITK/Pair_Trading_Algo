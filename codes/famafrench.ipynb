{
 "cells": [
  {
   "cell_type": "code",
   "execution_count": 1,
   "id": "initial_id",
   "metadata": {
    "collapsed": true,
    "ExecuteTime": {
     "end_time": "2023-09-27T11:39:17.401061900Z",
     "start_time": "2023-09-27T11:39:16.648994500Z"
    }
   },
   "outputs": [],
   "source": [
    "import pandas as pd\n",
    "import numpy as np\n",
    "import matplotlib.pyplot as plt"
   ]
  },
  {
   "cell_type": "code",
   "execution_count": 4,
   "outputs": [],
   "source": [
    "fama_french_factors = pd.read_csv('../esg_data/fama_french_factors.csv')\n",
    "fama_french_factors['Date'] = pd.to_datetime(fama_french_factors['Date'])"
   ],
   "metadata": {
    "collapsed": false,
    "ExecuteTime": {
     "end_time": "2023-09-27T11:40:04.745895800Z",
     "start_time": "2023-09-27T11:40:04.708604800Z"
    }
   },
   "id": "84daf1e669285e5d"
  },
  {
   "cell_type": "code",
   "execution_count": 5,
   "outputs": [],
   "source": [
    "cleaned_stocks = pd.read_csv('../esg_data/cleaned_stocks.csv')"
   ],
   "metadata": {
    "collapsed": false,
    "ExecuteTime": {
     "end_time": "2023-09-27T11:40:18.390002100Z",
     "start_time": "2023-09-27T11:40:18.304251700Z"
    }
   },
   "id": "dc5e3208394bbe01"
  },
  {
   "cell_type": "code",
   "execution_count": 6,
   "outputs": [],
   "source": [
    "fama_french_factors = fama_french_factors[fama_french_factors['Date'].isin(cleaned_stocks.date.to_list())]\n",
    "fama_french_factors = fama_french_factors.reset_index(drop=True)"
   ],
   "metadata": {
    "collapsed": false,
    "ExecuteTime": {
     "end_time": "2023-09-27T11:40:47.033679100Z",
     "start_time": "2023-09-27T11:40:47.003411Z"
    }
   },
   "id": "d90ea3b5467d8abd"
  },
  {
   "cell_type": "code",
   "execution_count": 13,
   "outputs": [],
   "source": [
    "import sys, os"
   ],
   "metadata": {
    "collapsed": false,
    "ExecuteTime": {
     "end_time": "2023-09-27T11:45:25.050914800Z",
     "start_time": "2023-09-27T11:45:25.020895200Z"
    }
   },
   "id": "4c96f8aa5d15351f"
  },
  {
   "cell_type": "code",
   "execution_count": 14,
   "outputs": [],
   "source": [
    "sys.path.append(os.path.join(sys.path[3], 'algo_testing'))"
   ],
   "metadata": {
    "collapsed": false,
    "ExecuteTime": {
     "end_time": "2023-09-27T11:45:25.963395100Z",
     "start_time": "2023-09-27T11:45:25.947387900Z"
    }
   },
   "id": "e7c9bb2e2b35f6f2"
  },
  {
   "cell_type": "code",
   "execution_count": 15,
   "outputs": [],
   "source": [
    "from helpers.read_eco_data import preprocess"
   ],
   "metadata": {
    "collapsed": false,
    "ExecuteTime": {
     "end_time": "2023-09-27T11:45:26.247689Z",
     "start_time": "2023-09-27T11:45:26.216253500Z"
    }
   },
   "id": "8447c631b06dca49"
  },
  {
   "cell_type": "code",
   "execution_count": 17,
   "outputs": [],
   "source": [
    "esg_df = preprocess('../esg_data/esg_data.json')\n",
    "esg_df = esg_df.loc[esg_df['eco_score'] > 0]\n",
    "esg_df = esg_df.reset_index(drop=True)"
   ],
   "metadata": {
    "collapsed": false,
    "ExecuteTime": {
     "end_time": "2023-09-27T11:46:17.856630Z",
     "start_time": "2023-09-27T11:46:11.944087200Z"
    }
   },
   "id": "230de6bc1e459db9"
  },
  {
   "cell_type": "code",
   "execution_count": 18,
   "outputs": [],
   "source": [
    "esg_data = pd.read_json('../esg_data/esg_data.json')\n",
    "esg_data = esg_data[['ticker', 'industry']]"
   ],
   "metadata": {
    "collapsed": false,
    "ExecuteTime": {
     "end_time": "2023-09-27T11:46:32.105058200Z",
     "start_time": "2023-09-27T11:46:32.072896800Z"
    }
   },
   "id": "2d5c07c6d64a8e09"
  },
  {
   "cell_type": "code",
   "execution_count": 19,
   "outputs": [],
   "source": [
    "esg_df = pd.merge(esg_df, esg_data, how='left', on='ticker')"
   ],
   "metadata": {
    "collapsed": false,
    "ExecuteTime": {
     "end_time": "2023-09-27T11:46:42.070300300Z",
     "start_time": "2023-09-27T11:46:42.029732900Z"
    }
   },
   "id": "46c11e7652fda3c7"
  },
  {
   "cell_type": "code",
   "execution_count": 23,
   "outputs": [
    {
     "name": "stdout",
     "output_type": "stream",
     "text": [
      "['Diversified Financial Services', 'Banking', 'Heavy & Civil Engineering Construction', 'Motor Vehicle Parts Manufacturing', 'Real Estate Management & Development', 'Business Support Services', 'Manufacturing', 'Brokerage & Capital Markets', 'Food Products', 'Telecommunications', 'Motor Vehicle Manufacturing', 'Architectural, Engineering, & Related Services', 'IT & Network Services', 'Electric & Gas Utilities', 'Beverage Manufacturing', 'Insurance Carriers', 'Luxury Goods & Cosmetics Manufacturing', 'Containers & Packaging Manufacturing', 'Airport, Harbor Operations, & Logistics', 'Alternative Energy', 'Healthcare Providers', 'Consumer Lending', 'Conglomerates', 'Retail', 'Other Services', 'Natural Gas Distribution']\n"
     ]
    }
   ],
   "source": [
    "industries = esg_df['industry'].value_counts()[esg_df['industry'].value_counts() > 5].index.to_list()\n",
    "print(industries)"
   ],
   "metadata": {
    "collapsed": false,
    "ExecuteTime": {
     "end_time": "2023-09-27T11:47:51.654548600Z",
     "start_time": "2023-09-27T11:47:51.593058900Z"
    }
   },
   "id": "b0ac4800c22373cc"
  },
  {
   "cell_type": "code",
   "execution_count": 23,
   "outputs": [],
   "source": [],
   "metadata": {
    "collapsed": false,
    "ExecuteTime": {
     "end_time": "2023-09-27T12:59:18.098315900Z",
     "start_time": "2023-09-27T12:59:18.014579700Z"
    }
   },
   "id": "e4b6bd0d7e1dff6"
  },
  {
   "cell_type": "code",
   "execution_count": null,
   "outputs": [],
   "source": [
    "\n"
   ],
   "metadata": {
    "collapsed": false
   },
   "id": "2d029d8647ecadb0"
  }
 ],
 "metadata": {
  "kernelspec": {
   "display_name": "Python 3",
   "language": "python",
   "name": "python3"
  },
  "language_info": {
   "codemirror_mode": {
    "name": "ipython",
    "version": 2
   },
   "file_extension": ".py",
   "mimetype": "text/x-python",
   "name": "python",
   "nbconvert_exporter": "python",
   "pygments_lexer": "ipython2",
   "version": "2.7.6"
  }
 },
 "nbformat": 4,
 "nbformat_minor": 5
}
